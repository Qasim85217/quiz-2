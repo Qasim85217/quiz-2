{
 "cells": [
  {
   "cell_type": "code",
   "execution_count": null,
   "metadata": {},
   "outputs": [],
   "source": [
    "employees = [\n",
    "    (\"John\", 50000, 4.5),\n",
    "    (\"Alice\", 60000, 4.7),\n",
    "    (\"Bob\", 45000, 4.2),\n",
    "    (\"Emma\", 55000, 4.6),\n",
    "    (\"James\", 48000, 4.4)\n",
    "]\n",
    "sales_weight = 0.6\n",
    "satisfaction_weight=0.4\n",
    "weighted_scores = [(employee[0], (sales_weight * employee[1]) + (satisfaction_weight * employee[2])) for employee in employees]\n",
    "sorted_employees = sorted(weighted_scores, key=lambda x: x[1])\n",
    "\n",
    "print(\"Best-performing employees:\")\n",
    "for employee in sorted_employees:\n",
    "    print(f\"{employee[0]} - Score: {employee[1]}\")"
   ]
  },
  {
   "cell_type": "code",
   "execution_count": null,
   "metadata": {},
   "outputs": [],
   "source": [
    "even_numbers = [2, 4, 6, 8, 10]\n",
    "square_roots = [(num, num**0.5) for num in even_numbers]\n",
    "print(\"Square roots of even numbers:\")\n",
    "for number, square_root in square_roots:\n",
    "    print(f\"Square root of {number} is {square_root}\")\n"
   ]
  }
 ],
 "metadata": {
  "language_info": {
   "name": "python"
  }
 },
 "nbformat": 4,
 "nbformat_minor": 2
}
